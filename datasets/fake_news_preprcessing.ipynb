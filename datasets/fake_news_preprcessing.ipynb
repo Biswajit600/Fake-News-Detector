{
 "cells": [
  {
   "cell_type": "code",
   "execution_count": 27,
   "metadata": {},
   "outputs": [],
   "source": [
    "import pandas as pd\n",
    "import numpy as np\n",
    "import matplotlib.pyplot as plt"
   ]
  },
  {
   "cell_type": "code",
   "execution_count": 81,
   "metadata": {},
   "outputs": [],
   "source": [
    "path_to_dataset = '/Users/tithighosh/Library/Application Support/AirDroid/Downloads/Fake news_/datasets/fake_news_dataset.csv'\n"
   ]
  },
  {
   "cell_type": "code",
   "execution_count": 15,
   "metadata": {},
   "outputs": [],
   "source": [
    "data = pd.read_csv(path_to_dataset, index_col=0)"
   ]
  },
  {
   "cell_type": "code",
   "execution_count": 16,
   "metadata": {},
   "outputs": [
    {
     "data": {
      "text/html": [
       "<div>\n",
       "<style scoped>\n",
       "    .dataframe tbody tr th:only-of-type {\n",
       "        vertical-align: middle;\n",
       "    }\n",
       "\n",
       "    .dataframe tbody tr th {\n",
       "        vertical-align: top;\n",
       "    }\n",
       "\n",
       "    .dataframe thead th {\n",
       "        text-align: right;\n",
       "    }\n",
       "</style>\n",
       "<table border=\"1\" class=\"dataframe\">\n",
       "  <thead>\n",
       "    <tr style=\"text-align: right;\">\n",
       "      <th></th>\n",
       "      <th>date</th>\n",
       "      <th>day</th>\n",
       "      <th>flag</th>\n",
       "      <th>link</th>\n",
       "      <th>month</th>\n",
       "      <th>place</th>\n",
       "      <th>publisher</th>\n",
       "      <th>year</th>\n",
       "      <th>Text</th>\n",
       "    </tr>\n",
       "  </thead>\n",
       "  <tbody>\n",
       "    <tr>\n",
       "      <th>0</th>\n",
       "      <td>2018/03/29</td>\n",
       "      <td>29.0</td>\n",
       "      <td>0</td>\n",
       "      <td>http://timesofindia.indiatimes.com//city/nagpu...</td>\n",
       "      <td>3.0</td>\n",
       "      <td>nagpur</td>\n",
       "      <td>TOI</td>\n",
       "      <td>2018.0</td>\n",
       "      <td>NAGPUR: Villagers in Naxalite infested Gadchir...</td>\n",
       "    </tr>\n",
       "    <tr>\n",
       "      <th>1</th>\n",
       "      <td>2017/01/24</td>\n",
       "      <td>24.0</td>\n",
       "      <td>0</td>\n",
       "      <td>http://timesofindia.indiatimes.com//india/jk-g...</td>\n",
       "      <td>1.0</td>\n",
       "      <td>NaN</td>\n",
       "      <td>TOI</td>\n",
       "      <td>2017.0</td>\n",
       "      <td>NEW DELHI: The Jammu &amp; Kashmir government has ...</td>\n",
       "    </tr>\n",
       "    <tr>\n",
       "      <th>2</th>\n",
       "      <td>2017/01/31</td>\n",
       "      <td>31.0</td>\n",
       "      <td>0</td>\n",
       "      <td>http://timesofindia.indiatimes.com//city/kolha...</td>\n",
       "      <td>1.0</td>\n",
       "      <td>kolhapur</td>\n",
       "      <td>TOI</td>\n",
       "      <td>2017.0</td>\n",
       "      <td>KOLHAPUR: Robbers continue to give sleepless n...</td>\n",
       "    </tr>\n",
       "    <tr>\n",
       "      <th>3</th>\n",
       "      <td>2018/03/26</td>\n",
       "      <td>26.0</td>\n",
       "      <td>0</td>\n",
       "      <td>http://timesofindia.indiatimes.com//city/hubba...</td>\n",
       "      <td>3.0</td>\n",
       "      <td>hubballi</td>\n",
       "      <td>TOI</td>\n",
       "      <td>2018.0</td>\n",
       "      <td>HUBBALLI: An iconic building, which is propose...</td>\n",
       "    </tr>\n",
       "    <tr>\n",
       "      <th>4</th>\n",
       "      <td>2017/02/20</td>\n",
       "      <td>20.0</td>\n",
       "      <td>0</td>\n",
       "      <td>http://timesofindia.indiatimes.com//city/mumba...</td>\n",
       "      <td>2.0</td>\n",
       "      <td>mumbai</td>\n",
       "      <td>TOI</td>\n",
       "      <td>2017.0</td>\n",
       "      <td>MUMBAI: MNS chief   said that the   would lead...</td>\n",
       "    </tr>\n",
       "  </tbody>\n",
       "</table>\n",
       "</div>"
      ],
      "text/plain": [
       "         date   day  flag                                               link  \\\n",
       "0  2018/03/29  29.0     0  http://timesofindia.indiatimes.com//city/nagpu...   \n",
       "1  2017/01/24  24.0     0  http://timesofindia.indiatimes.com//india/jk-g...   \n",
       "2  2017/01/31  31.0     0  http://timesofindia.indiatimes.com//city/kolha...   \n",
       "3  2018/03/26  26.0     0  http://timesofindia.indiatimes.com//city/hubba...   \n",
       "4  2017/02/20  20.0     0  http://timesofindia.indiatimes.com//city/mumba...   \n",
       "\n",
       "   month     place publisher    year  \\\n",
       "0    3.0    nagpur       TOI  2018.0   \n",
       "1    1.0       NaN       TOI  2017.0   \n",
       "2    1.0  kolhapur       TOI  2017.0   \n",
       "3    3.0  hubballi       TOI  2018.0   \n",
       "4    2.0    mumbai       TOI  2017.0   \n",
       "\n",
       "                                                Text  \n",
       "0  NAGPUR: Villagers in Naxalite infested Gadchir...  \n",
       "1  NEW DELHI: The Jammu & Kashmir government has ...  \n",
       "2  KOLHAPUR: Robbers continue to give sleepless n...  \n",
       "3  HUBBALLI: An iconic building, which is propose...  \n",
       "4  MUMBAI: MNS chief   said that the   would lead...  "
      ]
     },
     "execution_count": 16,
     "metadata": {},
     "output_type": "execute_result"
    }
   ],
   "source": [
    "data.head()"
   ]
  },
  {
   "cell_type": "markdown",
   "metadata": {},
   "source": [
    "## Validating Data"
   ]
  },
  {
   "cell_type": "code",
   "execution_count": 44,
   "metadata": {},
   "outputs": [
    {
     "data": {
      "text/plain": [
       "array([29., 24., 31., 26., 20., 15., 28., 23., 19.,  5., 17., 18., 21.,\n",
       "       25., 12., 30.,  6.,  4.,  2., 22., 10., 14.,  1., 27., 11.,  7.,\n",
       "        9.,  8., 13.,  3., 16., nan])"
      ]
     },
     "execution_count": 44,
     "metadata": {},
     "output_type": "execute_result"
    }
   ],
   "source": [
    "data['day'].unique()"
   ]
  },
  {
   "cell_type": "code",
   "execution_count": 59,
   "metadata": {},
   "outputs": [
    {
     "data": {
      "text/plain": [
       "array([ 3.,  1.,  2.,  4.,  7.,  5.,  9.,  6., 10.,  8., 11., 12.])"
      ]
     },
     "execution_count": 59,
     "metadata": {},
     "output_type": "execute_result"
    }
   ],
   "source": [
    "data['month'].unique()"
   ]
  },
  {
   "cell_type": "code",
   "execution_count": 60,
   "metadata": {},
   "outputs": [
    {
     "data": {
      "text/plain": [
       "array([2018., 2017.])"
      ]
     },
     "execution_count": 60,
     "metadata": {},
     "output_type": "execute_result"
    }
   ],
   "source": [
    "data['year'].unique()"
   ]
  },
  {
   "cell_type": "markdown",
   "metadata": {},
   "source": [
    "## Missing Values"
   ]
  },
  {
   "cell_type": "code",
   "execution_count": 17,
   "metadata": {},
   "outputs": [
    {
     "data": {
      "text/plain": [
       "date             0\n",
       "day              1\n",
       "flag             0\n",
       "link             0\n",
       "month            1\n",
       "place        63713\n",
       "publisher        0\n",
       "year             1\n",
       "Text             0\n",
       "dtype: int64"
      ]
     },
     "execution_count": 17,
     "metadata": {},
     "output_type": "execute_result"
    }
   ],
   "source": [
    "data.isnull().sum()"
   ]
  },
  {
   "cell_type": "code",
   "execution_count": 18,
   "metadata": {},
   "outputs": [
    {
     "data": {
      "text/plain": [
       "0.3032133101091726"
      ]
     },
     "execution_count": 18,
     "metadata": {},
     "output_type": "execute_result"
    }
   ],
   "source": [
    "data['place'].isnull().sum()/data.shape[0]"
   ]
  },
  {
   "cell_type": "markdown",
   "metadata": {},
   "source": [
    "'place' has 30% missing values. So this attribute is dropped."
   ]
  },
  {
   "cell_type": "code",
   "execution_count": 19,
   "metadata": {},
   "outputs": [],
   "source": [
    "data.drop('place', axis=1, inplace=True)"
   ]
  },
  {
   "cell_type": "markdown",
   "metadata": {},
   "source": [
    "'day' and 'year' have 1 missing value. So these observations are dropped only."
   ]
  },
  {
   "cell_type": "code",
   "execution_count": 45,
   "metadata": {},
   "outputs": [],
   "source": [
    "data.dropna(axis=0, inplace=True)"
   ]
  },
  {
   "cell_type": "code",
   "execution_count": 46,
   "metadata": {},
   "outputs": [
    {
     "data": {
      "text/plain": [
       "date         0\n",
       "day          0\n",
       "flag         0\n",
       "link         0\n",
       "month        0\n",
       "publisher    0\n",
       "year         0\n",
       "Text         0\n",
       "dtype: int64"
      ]
     },
     "execution_count": 46,
     "metadata": {},
     "output_type": "execute_result"
    }
   ],
   "source": [
    "data.isnull().sum()"
   ]
  },
  {
   "cell_type": "markdown",
   "metadata": {},
   "source": [
    ":-)    "
   ]
  },
  {
   "cell_type": "code",
   "execution_count": null,
   "metadata": {},
   "outputs": [],
   "source": []
  },
  {
   "cell_type": "markdown",
   "metadata": {},
   "source": [
    "## Rearranging Columns"
   ]
  },
  {
   "cell_type": "code",
   "execution_count": 47,
   "metadata": {},
   "outputs": [
    {
     "data": {
      "text/plain": [
       "Index(['date', 'day', 'flag', 'link', 'month', 'publisher', 'year', 'Text'], dtype='object')"
      ]
     },
     "execution_count": 47,
     "metadata": {},
     "output_type": "execute_result"
    }
   ],
   "source": [
    "data.columns"
   ]
  },
  {
   "cell_type": "code",
   "execution_count": 48,
   "metadata": {},
   "outputs": [],
   "source": [
    "arranged_data = data[['Text', 'date', 'day', 'link', 'month', 'publisher', 'year', 'flag']]"
   ]
  },
  {
   "cell_type": "code",
   "execution_count": 49,
   "metadata": {},
   "outputs": [
    {
     "data": {
      "text/html": [
       "<div>\n",
       "<style scoped>\n",
       "    .dataframe tbody tr th:only-of-type {\n",
       "        vertical-align: middle;\n",
       "    }\n",
       "\n",
       "    .dataframe tbody tr th {\n",
       "        vertical-align: top;\n",
       "    }\n",
       "\n",
       "    .dataframe thead th {\n",
       "        text-align: right;\n",
       "    }\n",
       "</style>\n",
       "<table border=\"1\" class=\"dataframe\">\n",
       "  <thead>\n",
       "    <tr style=\"text-align: right;\">\n",
       "      <th></th>\n",
       "      <th>Text</th>\n",
       "      <th>date</th>\n",
       "      <th>day</th>\n",
       "      <th>link</th>\n",
       "      <th>month</th>\n",
       "      <th>publisher</th>\n",
       "      <th>year</th>\n",
       "      <th>flag</th>\n",
       "    </tr>\n",
       "  </thead>\n",
       "  <tbody>\n",
       "    <tr>\n",
       "      <th>0</th>\n",
       "      <td>NAGPUR: Villagers in Naxalite infested Gadchir...</td>\n",
       "      <td>2018/03/29</td>\n",
       "      <td>29.0</td>\n",
       "      <td>http://timesofindia.indiatimes.com//city/nagpu...</td>\n",
       "      <td>3.0</td>\n",
       "      <td>TOI</td>\n",
       "      <td>2018.0</td>\n",
       "      <td>0</td>\n",
       "    </tr>\n",
       "    <tr>\n",
       "      <th>1</th>\n",
       "      <td>NEW DELHI: The Jammu &amp; Kashmir government has ...</td>\n",
       "      <td>2017/01/24</td>\n",
       "      <td>24.0</td>\n",
       "      <td>http://timesofindia.indiatimes.com//india/jk-g...</td>\n",
       "      <td>1.0</td>\n",
       "      <td>TOI</td>\n",
       "      <td>2017.0</td>\n",
       "      <td>0</td>\n",
       "    </tr>\n",
       "    <tr>\n",
       "      <th>2</th>\n",
       "      <td>KOLHAPUR: Robbers continue to give sleepless n...</td>\n",
       "      <td>2017/01/31</td>\n",
       "      <td>31.0</td>\n",
       "      <td>http://timesofindia.indiatimes.com//city/kolha...</td>\n",
       "      <td>1.0</td>\n",
       "      <td>TOI</td>\n",
       "      <td>2017.0</td>\n",
       "      <td>0</td>\n",
       "    </tr>\n",
       "    <tr>\n",
       "      <th>3</th>\n",
       "      <td>HUBBALLI: An iconic building, which is propose...</td>\n",
       "      <td>2018/03/26</td>\n",
       "      <td>26.0</td>\n",
       "      <td>http://timesofindia.indiatimes.com//city/hubba...</td>\n",
       "      <td>3.0</td>\n",
       "      <td>TOI</td>\n",
       "      <td>2018.0</td>\n",
       "      <td>0</td>\n",
       "    </tr>\n",
       "    <tr>\n",
       "      <th>4</th>\n",
       "      <td>MUMBAI: MNS chief   said that the   would lead...</td>\n",
       "      <td>2017/02/20</td>\n",
       "      <td>20.0</td>\n",
       "      <td>http://timesofindia.indiatimes.com//city/mumba...</td>\n",
       "      <td>2.0</td>\n",
       "      <td>TOI</td>\n",
       "      <td>2017.0</td>\n",
       "      <td>0</td>\n",
       "    </tr>\n",
       "  </tbody>\n",
       "</table>\n",
       "</div>"
      ],
      "text/plain": [
       "                                                Text        date   day  \\\n",
       "0  NAGPUR: Villagers in Naxalite infested Gadchir...  2018/03/29  29.0   \n",
       "1  NEW DELHI: The Jammu & Kashmir government has ...  2017/01/24  24.0   \n",
       "2  KOLHAPUR: Robbers continue to give sleepless n...  2017/01/31  31.0   \n",
       "3  HUBBALLI: An iconic building, which is propose...  2018/03/26  26.0   \n",
       "4  MUMBAI: MNS chief   said that the   would lead...  2017/02/20  20.0   \n",
       "\n",
       "                                                link  month publisher    year  \\\n",
       "0  http://timesofindia.indiatimes.com//city/nagpu...    3.0       TOI  2018.0   \n",
       "1  http://timesofindia.indiatimes.com//india/jk-g...    1.0       TOI  2017.0   \n",
       "2  http://timesofindia.indiatimes.com//city/kolha...    1.0       TOI  2017.0   \n",
       "3  http://timesofindia.indiatimes.com//city/hubba...    3.0       TOI  2018.0   \n",
       "4  http://timesofindia.indiatimes.com//city/mumba...    2.0       TOI  2017.0   \n",
       "\n",
       "   flag  \n",
       "0     0  \n",
       "1     0  \n",
       "2     0  \n",
       "3     0  \n",
       "4     0  "
      ]
     },
     "execution_count": 49,
     "metadata": {},
     "output_type": "execute_result"
    }
   ],
   "source": [
    "arranged_data.head()"
   ]
  },
  {
   "cell_type": "markdown",
   "metadata": {},
   "source": [
    "## Feature Selection"
   ]
  },
  {
   "cell_type": "markdown",
   "metadata": {},
   "source": [
    "### Day  "
   ]
  },
  {
   "cell_type": "code",
   "execution_count": 50,
   "metadata": {},
   "outputs": [],
   "source": [
    "grp = arranged_data.groupby('day')['flag'].sum()"
   ]
  },
  {
   "cell_type": "code",
   "execution_count": 51,
   "metadata": {},
   "outputs": [
    {
     "data": {
      "text/plain": [
       "<BarContainer object of 31 artists>"
      ]
     },
     "execution_count": 51,
     "metadata": {},
     "output_type": "execute_result"
    },
    {
     "data": {
      "image/png": "[encoded data removed]",
      "text/plain": [
       "<Figure size 432x288 with 1 Axes>"
      ]
     },
     "metadata": {
      "needs_background": "light"
     },
     "output_type": "display_data"
    }
   ],
   "source": [
    "plt.bar(grp.index, grp.values)"
   ]
  },
  {
   "cell_type": "code",
   "execution_count": 52,
   "metadata": {},
   "outputs": [
    {
     "data": {
      "text/plain": [
       "<matplotlib.collections.PathCollection at 0x11f4f0070>"
      ]
     },
     "execution_count": 52,
     "metadata": {},
     "output_type": "execute_result"
    },
    {
     "data": {
      "image/png": "[encoded data removed]",
      "text/plain": [
       "<Figure size 432x288 with 1 Axes>"
      ]
     },
     "metadata": {
      "needs_background": "light"
     },
     "output_type": "display_data"
    }
   ],
   "source": [
    "plt.scatter(grp.index, grp.values)"
   ]
  },
  {
   "cell_type": "code",
   "execution_count": 53,
   "metadata": {},
   "outputs": [],
   "source": [
    "# drop day? "
   ]
  },
  {
   "cell_type": "markdown",
   "metadata": {},
   "source": [
    "### Month "
   ]
  },
  {
   "cell_type": "code",
   "execution_count": 54,
   "metadata": {},
   "outputs": [],
   "source": [
    "grp = arranged_data.groupby('month')['flag'].sum()"
   ]
  },
  {
   "cell_type": "code",
   "execution_count": 55,
   "metadata": {},
   "outputs": [
    {
     "data": {
      "text/plain": [
       "<BarContainer object of 12 artists>"
      ]
     },
     "execution_count": 55,
     "metadata": {},
     "output_type": "execute_result"
    },
    {
     "data": {
      "image/png": "[encoded data removed]",
      "text/plain": [
       "<Figure size 432x288 with 1 Axes>"
      ]
     },
     "metadata": {
      "needs_background": "light"
     },
     "output_type": "display_data"
    }
   ],
   "source": [
    "plt.bar(grp.index, grp.values)"
   ]
  },
  {
   "cell_type": "code",
   "execution_count": 75,
   "metadata": {},
   "outputs": [],
   "source": [
    "# ------ split into two categories------"
   ]
  },
  {
   "cell_type": "markdown",
   "metadata": {},
   "source": [
    "### Year  "
   ]
  },
  {
   "cell_type": "code",
   "execution_count": 73,
   "metadata": {},
   "outputs": [],
   "source": [
    "# only 2 unique values ----> drop year"
   ]
  },
  {
   "cell_type": "markdown",
   "metadata": {},
   "source": [
    "### Publisher"
   ]
  },
  {
   "cell_type": "code",
   "execution_count": 74,
   "metadata": {},
   "outputs": [],
   "source": [
    "# only 1 unique value ----> drop publisher"
   ]
  },
  {
   "cell_type": "markdown",
   "metadata": {},
   "source": [
    "### X-y split"
   ]
  },
  {
   "cell_type": "code",
   "execution_count": 78,
   "metadata": {},
   "outputs": [],
   "source": [
    "# X ----> text, month\n",
    "# y ----> flag"
   ]
  },
  {
   "cell_type": "markdown",
   "metadata": {},
   "source": [
    "## Generating Test Data"
   ]
  },
  {
   "cell_type": "code",
   "execution_count": 79,
   "metadata": {},
   "outputs": [],
   "source": [
    "# select 20% as unseen test data(shuffled)"
   ]
  },
  {
   "cell_type": "markdown",
   "metadata": {},
   "source": [
    "## Train-Test Split"
   ]
  },
  {
   "cell_type": "code",
   "execution_count": 80,
   "metadata": {},
   "outputs": [],
   "source": [
    "# train-test split on 80% test data"
   ]
  },
  {
   "cell_type": "code",
   "execution_count": null,
   "metadata": {},
   "outputs": [],
   "source": []
  }
 ],
 "metadata": {
  "kernelspec": {
   "display_name": "Python 3",
   "language": "python",
   "name": "python3"
  },
  "language_info": {
   "codemirror_mode": {
    "name": "ipython",
    "version": 3
   },
   "file_extension": ".py",
   "mimetype": "text/x-python",
   "name": "python",
   "nbconvert_exporter": "python",
   "pygments_lexer": "ipython3",
   "version": "3.8.2"
  }
 },
 "nbformat": 4,
 "nbformat_minor": 4
}
